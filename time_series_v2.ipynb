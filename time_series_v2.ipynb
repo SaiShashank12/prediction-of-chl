{
 "cells": [
  {
   "cell_type": "code",
   "execution_count": 1,
   "metadata": {},
   "outputs": [],
   "source": [
    "import pandas as pd \n",
    "import numpy as np \n",
    "import matplotlib.pyplot as plt \n",
    "%matplotlib inline"
   ]
  },
  {
   "cell_type": "code",
   "execution_count": 2,
   "metadata": {},
   "outputs": [],
   "source": [
    "df = pd.read_csv(r'BIO_SRI.csv')"
   ]
  },
  {
   "cell_type": "code",
   "execution_count": 3,
   "metadata": {},
   "outputs": [],
   "source": [
    "df = df.drop(['depth', 'spco2', 'o2','no3',\n",
    "       'po4', 'phyc', 'si', 'ph', 'nppv', 'fe'],axis= 1)"
   ]
  },
  {
   "cell_type": "code",
   "execution_count": 4,
   "metadata": {},
   "outputs": [],
   "source": [
    "latlon =df.copy()"
   ]
  },
  {
   "cell_type": "code",
   "execution_count": 5,
   "metadata": {},
   "outputs": [],
   "source": [
    "latlon = latlon.drop(['chl'],axis=1)"
   ]
  },
  {
   "cell_type": "code",
   "execution_count": 6,
   "metadata": {},
   "outputs": [
    {
     "data": {
      "text/html": [
       "<div>\n",
       "<style scoped>\n",
       "    .dataframe tbody tr th:only-of-type {\n",
       "        vertical-align: middle;\n",
       "    }\n",
       "\n",
       "    .dataframe tbody tr th {\n",
       "        vertical-align: top;\n",
       "    }\n",
       "\n",
       "    .dataframe thead th {\n",
       "        text-align: right;\n",
       "    }\n",
       "</style>\n",
       "<table border=\"1\" class=\"dataframe\">\n",
       "  <thead>\n",
       "    <tr style=\"text-align: right;\">\n",
       "      <th></th>\n",
       "      <th>latitude</th>\n",
       "      <th>longitude</th>\n",
       "      <th>time</th>\n",
       "    </tr>\n",
       "  </thead>\n",
       "  <tbody>\n",
       "    <tr>\n",
       "      <td>0</td>\n",
       "      <td>0.00</td>\n",
       "      <td>60.0</td>\n",
       "      <td>2017-12-05 12:00:00</td>\n",
       "    </tr>\n",
       "    <tr>\n",
       "      <td>1</td>\n",
       "      <td>0.00</td>\n",
       "      <td>60.0</td>\n",
       "      <td>2017-12-06 12:00:00</td>\n",
       "    </tr>\n",
       "    <tr>\n",
       "      <td>2</td>\n",
       "      <td>0.00</td>\n",
       "      <td>60.0</td>\n",
       "      <td>2017-12-07 12:00:00</td>\n",
       "    </tr>\n",
       "    <tr>\n",
       "      <td>3</td>\n",
       "      <td>0.00</td>\n",
       "      <td>60.0</td>\n",
       "      <td>2017-12-08 12:00:00</td>\n",
       "    </tr>\n",
       "    <tr>\n",
       "      <td>4</td>\n",
       "      <td>0.00</td>\n",
       "      <td>60.0</td>\n",
       "      <td>2017-12-09 12:00:00</td>\n",
       "    </tr>\n",
       "    <tr>\n",
       "      <td>...</td>\n",
       "      <td>...</td>\n",
       "      <td>...</td>\n",
       "      <td>...</td>\n",
       "    </tr>\n",
       "    <tr>\n",
       "      <td>8574327</td>\n",
       "      <td>25.25</td>\n",
       "      <td>66.5</td>\n",
       "      <td>2019-11-24 12:00:00</td>\n",
       "    </tr>\n",
       "    <tr>\n",
       "      <td>8574328</td>\n",
       "      <td>25.25</td>\n",
       "      <td>66.5</td>\n",
       "      <td>2019-11-25 12:00:00</td>\n",
       "    </tr>\n",
       "    <tr>\n",
       "      <td>8574329</td>\n",
       "      <td>25.25</td>\n",
       "      <td>66.5</td>\n",
       "      <td>2019-11-27 12:00:00</td>\n",
       "    </tr>\n",
       "    <tr>\n",
       "      <td>8574330</td>\n",
       "      <td>25.25</td>\n",
       "      <td>66.5</td>\n",
       "      <td>2019-11-28 12:00:00</td>\n",
       "    </tr>\n",
       "    <tr>\n",
       "      <td>8574331</td>\n",
       "      <td>25.25</td>\n",
       "      <td>66.5</td>\n",
       "      <td>2019-11-29 12:00:00</td>\n",
       "    </tr>\n",
       "  </tbody>\n",
       "</table>\n",
       "<p>8574332 rows × 3 columns</p>\n",
       "</div>"
      ],
      "text/plain": [
       "         latitude  longitude                 time\n",
       "0            0.00       60.0  2017-12-05 12:00:00\n",
       "1            0.00       60.0  2017-12-06 12:00:00\n",
       "2            0.00       60.0  2017-12-07 12:00:00\n",
       "3            0.00       60.0  2017-12-08 12:00:00\n",
       "4            0.00       60.0  2017-12-09 12:00:00\n",
       "...           ...        ...                  ...\n",
       "8574327     25.25       66.5  2019-11-24 12:00:00\n",
       "8574328     25.25       66.5  2019-11-25 12:00:00\n",
       "8574329     25.25       66.5  2019-11-27 12:00:00\n",
       "8574330     25.25       66.5  2019-11-28 12:00:00\n",
       "8574331     25.25       66.5  2019-11-29 12:00:00\n",
       "\n",
       "[8574332 rows x 3 columns]"
      ]
     },
     "execution_count": 6,
     "metadata": {},
     "output_type": "execute_result"
    }
   ],
   "source": [
    "latlon"
   ]
  },
  {
   "cell_type": "code",
   "execution_count": 7,
   "metadata": {},
   "outputs": [
    {
     "name": "stderr",
     "output_type": "stream",
     "text": [
      "C:\\Users\\user\\Anaconda3\\lib\\site-packages\\ipykernel_launcher.py:1: UserWarning: Pandas doesn't allow columns to be created via a new attribute name - see https://pandas.pydata.org/pandas-docs/stable/indexing.html#attribute-access\n",
      "  \"\"\"Entry point for launching an IPython kernel.\n"
     ]
    }
   ],
   "source": [
    "df.Timestamp = pd.to_datetime(df.time,format='%Y-%m-%d %H:%M:%S') \n",
    "df.index = df.Timestamp \n",
    "df = df.resample('D')['chl'].mean()"
   ]
  },
  {
   "cell_type": "code",
   "execution_count": 8,
   "metadata": {},
   "outputs": [
    {
     "data": {
      "text/plain": [
       "time\n",
       "2017-12-05    0.402840\n",
       "2017-12-06    0.401132\n",
       "2017-12-07    0.387523\n",
       "2017-12-08    0.364218\n",
       "2017-12-09    0.349333\n",
       "                ...   \n",
       "2019-11-25    0.239241\n",
       "2019-11-26         NaN\n",
       "2019-11-27    0.242937\n",
       "2019-11-28    0.247428\n",
       "2019-11-29    0.249504\n",
       "Freq: D, Name: chl, Length: 725, dtype: float64"
      ]
     },
     "execution_count": 8,
     "metadata": {},
     "output_type": "execute_result"
    }
   ],
   "source": [
    "df"
   ]
  },
  {
   "cell_type": "code",
   "execution_count": 9,
   "metadata": {},
   "outputs": [],
   "source": [
    "df = df.fillna(method='ffill')"
   ]
  },
  {
   "cell_type": "code",
   "execution_count": 10,
   "metadata": {},
   "outputs": [
    {
     "data": {
      "text/plain": [
       "time\n",
       "2017-12-05    0.402840\n",
       "2017-12-06    0.401132\n",
       "2017-12-07    0.387523\n",
       "2017-12-08    0.364218\n",
       "2017-12-09    0.349333\n",
       "                ...   \n",
       "2019-11-25    0.239241\n",
       "2019-11-26    0.239241\n",
       "2019-11-27    0.242937\n",
       "2019-11-28    0.247428\n",
       "2019-11-29    0.249504\n",
       "Freq: D, Name: chl, Length: 725, dtype: float64"
      ]
     },
     "execution_count": 10,
     "metadata": {},
     "output_type": "execute_result"
    }
   ],
   "source": [
    "df"
   ]
  },
  {
   "cell_type": "code",
   "execution_count": 11,
   "metadata": {},
   "outputs": [
    {
     "data": {
      "text/plain": [
       "pandas.core.series.Series"
      ]
     },
     "execution_count": 11,
     "metadata": {},
     "output_type": "execute_result"
    }
   ],
   "source": [
    "type(df)"
   ]
  },
  {
   "cell_type": "code",
   "execution_count": 12,
   "metadata": {},
   "outputs": [],
   "source": [
    "latlon=latlon.set_index('time')"
   ]
  },
  {
   "cell_type": "code",
   "execution_count": 32,
   "metadata": {},
   "outputs": [],
   "source": [
    "temp=latlon.merge(df.to_frame(),left_index=True,right_index=True)"
   ]
  },
  {
   "cell_type": "code",
   "execution_count": 20,
   "metadata": {},
   "outputs": [],
   "source": [
    "latlon['time']=pd.to_datetime(latlon['time']).dt.date"
   ]
  },
  {
   "cell_type": "code",
   "execution_count": 19,
   "metadata": {},
   "outputs": [],
   "source": [
    "latlon=latlon.reset_index()"
   ]
  },
  {
   "cell_type": "code",
   "execution_count": 18,
   "metadata": {},
   "outputs": [
    {
     "data": {
      "text/html": [
       "<div>\n",
       "<style scoped>\n",
       "    .dataframe tbody tr th:only-of-type {\n",
       "        vertical-align: middle;\n",
       "    }\n",
       "\n",
       "    .dataframe tbody tr th {\n",
       "        vertical-align: top;\n",
       "    }\n",
       "\n",
       "    .dataframe thead th {\n",
       "        text-align: right;\n",
       "    }\n",
       "</style>\n",
       "<table border=\"1\" class=\"dataframe\">\n",
       "  <thead>\n",
       "    <tr style=\"text-align: right;\">\n",
       "      <th></th>\n",
       "      <th>latitude</th>\n",
       "      <th>longitude</th>\n",
       "    </tr>\n",
       "    <tr>\n",
       "      <th>time</th>\n",
       "      <th></th>\n",
       "      <th></th>\n",
       "    </tr>\n",
       "  </thead>\n",
       "  <tbody>\n",
       "    <tr>\n",
       "      <td>2017-12-05 12:00:00</td>\n",
       "      <td>0.0</td>\n",
       "      <td>60.0</td>\n",
       "    </tr>\n",
       "    <tr>\n",
       "      <td>2017-12-06 12:00:00</td>\n",
       "      <td>0.0</td>\n",
       "      <td>60.0</td>\n",
       "    </tr>\n",
       "    <tr>\n",
       "      <td>2017-12-07 12:00:00</td>\n",
       "      <td>0.0</td>\n",
       "      <td>60.0</td>\n",
       "    </tr>\n",
       "    <tr>\n",
       "      <td>2017-12-08 12:00:00</td>\n",
       "      <td>0.0</td>\n",
       "      <td>60.0</td>\n",
       "    </tr>\n",
       "    <tr>\n",
       "      <td>2017-12-09 12:00:00</td>\n",
       "      <td>0.0</td>\n",
       "      <td>60.0</td>\n",
       "    </tr>\n",
       "  </tbody>\n",
       "</table>\n",
       "</div>"
      ],
      "text/plain": [
       "                     latitude  longitude\n",
       "time                                    \n",
       "2017-12-05 12:00:00       0.0       60.0\n",
       "2017-12-06 12:00:00       0.0       60.0\n",
       "2017-12-07 12:00:00       0.0       60.0\n",
       "2017-12-08 12:00:00       0.0       60.0\n",
       "2017-12-09 12:00:00       0.0       60.0"
      ]
     },
     "execution_count": 18,
     "metadata": {},
     "output_type": "execute_result"
    }
   ],
   "source": [
    "latlon.head()"
   ]
  },
  {
   "cell_type": "code",
   "execution_count": 30,
   "metadata": {},
   "outputs": [
    {
     "data": {
      "text/html": [
       "<div>\n",
       "<style scoped>\n",
       "    .dataframe tbody tr th:only-of-type {\n",
       "        vertical-align: middle;\n",
       "    }\n",
       "\n",
       "    .dataframe tbody tr th {\n",
       "        vertical-align: top;\n",
       "    }\n",
       "\n",
       "    .dataframe thead th {\n",
       "        text-align: right;\n",
       "    }\n",
       "</style>\n",
       "<table border=\"1\" class=\"dataframe\">\n",
       "  <thead>\n",
       "    <tr style=\"text-align: right;\">\n",
       "      <th></th>\n",
       "      <th>chl</th>\n",
       "    </tr>\n",
       "    <tr>\n",
       "      <th>time</th>\n",
       "      <th></th>\n",
       "    </tr>\n",
       "  </thead>\n",
       "  <tbody>\n",
       "    <tr>\n",
       "      <td>2017-12-05</td>\n",
       "      <td>0.402840</td>\n",
       "    </tr>\n",
       "    <tr>\n",
       "      <td>2017-12-06</td>\n",
       "      <td>0.401132</td>\n",
       "    </tr>\n",
       "    <tr>\n",
       "      <td>2017-12-07</td>\n",
       "      <td>0.387523</td>\n",
       "    </tr>\n",
       "    <tr>\n",
       "      <td>2017-12-08</td>\n",
       "      <td>0.364218</td>\n",
       "    </tr>\n",
       "    <tr>\n",
       "      <td>2017-12-09</td>\n",
       "      <td>0.349333</td>\n",
       "    </tr>\n",
       "    <tr>\n",
       "      <td>...</td>\n",
       "      <td>...</td>\n",
       "    </tr>\n",
       "    <tr>\n",
       "      <td>2019-11-25</td>\n",
       "      <td>0.239241</td>\n",
       "    </tr>\n",
       "    <tr>\n",
       "      <td>2019-11-26</td>\n",
       "      <td>0.239241</td>\n",
       "    </tr>\n",
       "    <tr>\n",
       "      <td>2019-11-27</td>\n",
       "      <td>0.242937</td>\n",
       "    </tr>\n",
       "    <tr>\n",
       "      <td>2019-11-28</td>\n",
       "      <td>0.247428</td>\n",
       "    </tr>\n",
       "    <tr>\n",
       "      <td>2019-11-29</td>\n",
       "      <td>0.249504</td>\n",
       "    </tr>\n",
       "  </tbody>\n",
       "</table>\n",
       "<p>725 rows × 1 columns</p>\n",
       "</div>"
      ],
      "text/plain": [
       "                 chl\n",
       "time                \n",
       "2017-12-05  0.402840\n",
       "2017-12-06  0.401132\n",
       "2017-12-07  0.387523\n",
       "2017-12-08  0.364218\n",
       "2017-12-09  0.349333\n",
       "...              ...\n",
       "2019-11-25  0.239241\n",
       "2019-11-26  0.239241\n",
       "2019-11-27  0.242937\n",
       "2019-11-28  0.247428\n",
       "2019-11-29  0.249504\n",
       "\n",
       "[725 rows x 1 columns]"
      ]
     },
     "execution_count": 30,
     "metadata": {},
     "output_type": "execute_result"
    }
   ],
   "source": [
    "df.to_frame()"
   ]
  },
  {
   "cell_type": "code",
   "execution_count": 31,
   "metadata": {},
   "outputs": [],
   "source": [
    "latlon =latlon.set_index('time')"
   ]
  },
  {
   "cell_type": "code",
   "execution_count": null,
   "metadata": {},
   "outputs": [],
   "source": [
    "temp.to_csv('refine_data.csv')\n",
    "lat = temp['latitude'].tolist()"
   ]
  },
  {
   "cell_type": "code",
   "execution_count": 33,
   "metadata": {},
   "outputs": [],
   "source": [
    "z = temp[(temp['latitude']==0) & (temp['longitude']==60.00)]"
   ]
  },
  {
   "cell_type": "code",
   "execution_count": 34,
   "metadata": {},
   "outputs": [],
   "source": [
    "z = z.drop(['latitude','longitude'],axis= 1)"
   ]
  },
  {
   "cell_type": "code",
   "execution_count": 29,
   "metadata": {},
   "outputs": [
    {
     "data": {
      "text/html": [
       "<div>\n",
       "<style scoped>\n",
       "    .dataframe tbody tr th:only-of-type {\n",
       "        vertical-align: middle;\n",
       "    }\n",
       "\n",
       "    .dataframe tbody tr th {\n",
       "        vertical-align: top;\n",
       "    }\n",
       "\n",
       "    .dataframe thead th {\n",
       "        text-align: right;\n",
       "    }\n",
       "</style>\n",
       "<table border=\"1\" class=\"dataframe\">\n",
       "  <thead>\n",
       "    <tr style=\"text-align: right;\">\n",
       "      <th></th>\n",
       "      <th>time</th>\n",
       "      <th>latitude</th>\n",
       "      <th>longitude</th>\n",
       "    </tr>\n",
       "  </thead>\n",
       "  <tbody>\n",
       "    <tr>\n",
       "      <td>0</td>\n",
       "      <td>2017-12-05</td>\n",
       "      <td>0.00</td>\n",
       "      <td>60.0</td>\n",
       "    </tr>\n",
       "    <tr>\n",
       "      <td>1</td>\n",
       "      <td>2017-12-06</td>\n",
       "      <td>0.00</td>\n",
       "      <td>60.0</td>\n",
       "    </tr>\n",
       "    <tr>\n",
       "      <td>2</td>\n",
       "      <td>2017-12-07</td>\n",
       "      <td>0.00</td>\n",
       "      <td>60.0</td>\n",
       "    </tr>\n",
       "    <tr>\n",
       "      <td>3</td>\n",
       "      <td>2017-12-08</td>\n",
       "      <td>0.00</td>\n",
       "      <td>60.0</td>\n",
       "    </tr>\n",
       "    <tr>\n",
       "      <td>4</td>\n",
       "      <td>2017-12-09</td>\n",
       "      <td>0.00</td>\n",
       "      <td>60.0</td>\n",
       "    </tr>\n",
       "    <tr>\n",
       "      <td>...</td>\n",
       "      <td>...</td>\n",
       "      <td>...</td>\n",
       "      <td>...</td>\n",
       "    </tr>\n",
       "    <tr>\n",
       "      <td>8574327</td>\n",
       "      <td>2019-11-24</td>\n",
       "      <td>25.25</td>\n",
       "      <td>66.5</td>\n",
       "    </tr>\n",
       "    <tr>\n",
       "      <td>8574328</td>\n",
       "      <td>2019-11-25</td>\n",
       "      <td>25.25</td>\n",
       "      <td>66.5</td>\n",
       "    </tr>\n",
       "    <tr>\n",
       "      <td>8574329</td>\n",
       "      <td>2019-11-27</td>\n",
       "      <td>25.25</td>\n",
       "      <td>66.5</td>\n",
       "    </tr>\n",
       "    <tr>\n",
       "      <td>8574330</td>\n",
       "      <td>2019-11-28</td>\n",
       "      <td>25.25</td>\n",
       "      <td>66.5</td>\n",
       "    </tr>\n",
       "    <tr>\n",
       "      <td>8574331</td>\n",
       "      <td>2019-11-29</td>\n",
       "      <td>25.25</td>\n",
       "      <td>66.5</td>\n",
       "    </tr>\n",
       "  </tbody>\n",
       "</table>\n",
       "<p>8574332 rows × 3 columns</p>\n",
       "</div>"
      ],
      "text/plain": [
       "               time  latitude  longitude\n",
       "0        2017-12-05      0.00       60.0\n",
       "1        2017-12-06      0.00       60.0\n",
       "2        2017-12-07      0.00       60.0\n",
       "3        2017-12-08      0.00       60.0\n",
       "4        2017-12-09      0.00       60.0\n",
       "...             ...       ...        ...\n",
       "8574327  2019-11-24     25.25       66.5\n",
       "8574328  2019-11-25     25.25       66.5\n",
       "8574329  2019-11-27     25.25       66.5\n",
       "8574330  2019-11-28     25.25       66.5\n",
       "8574331  2019-11-29     25.25       66.5\n",
       "\n",
       "[8574332 rows x 3 columns]"
      ]
     },
     "execution_count": 29,
     "metadata": {},
     "output_type": "execute_result"
    }
   ],
   "source": [
    "latlon"
   ]
  },
  {
   "cell_type": "code",
   "execution_count": null,
   "metadata": {},
   "outputs": [],
   "source": [
    "for i in range(len(temp)):\n",
    "    z = temp[(temp['latitude']==lat[i]) & (temp['longitude']==long[i])]\n",
    "    z = z.drop(['latitude','longitude'],axis= 1)\n",
    "    dataset=z.values\n",
    "    "
   ]
  },
  {
   "cell_type": "code",
   "execution_count": 50,
   "metadata": {},
   "outputs": [],
   "source": [
    "import numpy\n",
    "import matplotlib.pyplot as plt\n",
    "import pandas\n",
    "import math\n",
    "from tensorflow.keras.models import Sequential\n",
    "from tensorflow.keras import layers\n",
    "\n",
    "\n",
    "from sklearn.preprocessing import MinMaxScaler\n",
    "from sklearn.metrics import mean_squared_error"
   ]
  },
  {
   "cell_type": "code",
   "execution_count": 51,
   "metadata": {},
   "outputs": [],
   "source": [
    "dataset=z.values\n",
    "#dataset\n",
    "dataset=dataset.astype('float32')"
   ]
  },
  {
   "cell_type": "code",
   "execution_count": 52,
   "metadata": {},
   "outputs": [],
   "source": [
    "\n",
    "# normalize the dataset\n",
    "scaler = MinMaxScaler(feature_range=(0, 1))\n",
    "dataset = scaler.fit_transform(dataset)"
   ]
  },
  {
   "cell_type": "code",
   "execution_count": 53,
   "metadata": {},
   "outputs": [
    {
     "name": "stdout",
     "output_type": "stream",
     "text": [
      "485 239\n"
     ]
    }
   ],
   "source": [
    "train_size = int(len(dataset) * 0.67)\n",
    "test_size = len(dataset) - train_size\n",
    "train, test = dataset[0:train_size,:], dataset[train_size:len(dataset),:]\n",
    "print(len(train), len(test))"
   ]
  },
  {
   "cell_type": "code",
   "execution_count": 54,
   "metadata": {},
   "outputs": [],
   "source": [
    "# convert an array of values into a dataset matrix\n",
    "def create_dataset(dataset, look_back=1):\n",
    "\tdataX, dataY = [], []\n",
    "\tfor i in range(len(dataset)-look_back-1):\n",
    "\t\ta = dataset[i:(i+look_back), 0]\n",
    "\t\tdataX.append(a)\n",
    "\t\tdataY.append(dataset[i + look_back, 0])\n",
    "\treturn numpy.array(dataX), numpy.array(dataY)"
   ]
  },
  {
   "cell_type": "code",
   "execution_count": 55,
   "metadata": {},
   "outputs": [],
   "source": [
    "\n",
    "# reshape into X=t and Y=t+1\n",
    "look_back = 1\n",
    "trainX, trainY = create_dataset(train, look_back)\n",
    "testX, testY = create_dataset(test, look_back)"
   ]
  },
  {
   "cell_type": "code",
   "execution_count": 56,
   "metadata": {},
   "outputs": [],
   "source": [
    "\n",
    "# reshape input to be [samples, time steps, features]\n",
    "trainX = numpy.reshape(trainX, (trainX.shape[0], 1, trainX.shape[1]))\n",
    "testX = numpy.reshape(testX, (testX.shape[0], 1, testX.shape[1]))\n"
   ]
  },
  {
   "cell_type": "code",
   "execution_count": 57,
   "metadata": {},
   "outputs": [
    {
     "name": "stdout",
     "output_type": "stream",
     "text": [
      "Train on 483 samples\n",
      "Epoch 1/100\n",
      "483/483 - 3s - loss: 0.1181\n",
      "Epoch 2/100\n",
      "483/483 - 1s - loss: 0.0294\n",
      "Epoch 3/100\n",
      "483/483 - 1s - loss: 0.0124\n",
      "Epoch 4/100\n",
      "483/483 - 1s - loss: 0.0124\n",
      "Epoch 5/100\n",
      "483/483 - 1s - loss: 0.0120\n",
      "Epoch 6/100\n",
      "483/483 - 1s - loss: 0.0121\n",
      "Epoch 7/100\n",
      "483/483 - 1s - loss: 0.0118\n",
      "Epoch 8/100\n",
      "483/483 - 1s - loss: 0.0121\n",
      "Epoch 9/100\n",
      "483/483 - 1s - loss: 0.0120\n",
      "Epoch 10/100\n",
      "483/483 - 1s - loss: 0.0125\n",
      "Epoch 11/100\n",
      "483/483 - 1s - loss: 0.0119\n",
      "Epoch 12/100\n",
      "483/483 - 1s - loss: 0.0123\n",
      "Epoch 13/100\n",
      "483/483 - 1s - loss: 0.0121\n",
      "Epoch 14/100\n",
      "483/483 - 1s - loss: 0.0121\n",
      "Epoch 15/100\n",
      "483/483 - 1s - loss: 0.0125\n",
      "Epoch 16/100\n",
      "483/483 - 1s - loss: 0.0120\n",
      "Epoch 17/100\n",
      "483/483 - 1s - loss: 0.0117\n",
      "Epoch 18/100\n",
      "483/483 - 1s - loss: 0.0120\n",
      "Epoch 19/100\n",
      "483/483 - 1s - loss: 0.0122\n",
      "Epoch 20/100\n",
      "483/483 - 1s - loss: 0.0120\n",
      "Epoch 21/100\n",
      "483/483 - 1s - loss: 0.0122\n",
      "Epoch 22/100\n",
      "483/483 - 1s - loss: 0.0122\n",
      "Epoch 23/100\n",
      "483/483 - 1s - loss: 0.0121\n",
      "Epoch 24/100\n",
      "483/483 - 1s - loss: 0.0123\n",
      "Epoch 25/100\n",
      "483/483 - 1s - loss: 0.0121\n",
      "Epoch 26/100\n",
      "483/483 - 1s - loss: 0.0124\n",
      "Epoch 27/100\n",
      "483/483 - 1s - loss: 0.0124\n",
      "Epoch 28/100\n",
      "483/483 - 1s - loss: 0.0125\n",
      "Epoch 29/100\n",
      "483/483 - 1s - loss: 0.0119\n",
      "Epoch 30/100\n",
      "483/483 - 1s - loss: 0.0124\n",
      "Epoch 31/100\n",
      "483/483 - 1s - loss: 0.0120\n",
      "Epoch 32/100\n",
      "483/483 - 1s - loss: 0.0120\n",
      "Epoch 33/100\n",
      "483/483 - 1s - loss: 0.0120\n",
      "Epoch 34/100\n",
      "483/483 - 1s - loss: 0.0122\n",
      "Epoch 35/100\n",
      "483/483 - 1s - loss: 0.0122\n",
      "Epoch 36/100\n",
      "483/483 - 1s - loss: 0.0120\n",
      "Epoch 37/100\n",
      "483/483 - 1s - loss: 0.0125\n",
      "Epoch 38/100\n",
      "483/483 - 1s - loss: 0.0122\n",
      "Epoch 39/100\n",
      "483/483 - 1s - loss: 0.0122\n",
      "Epoch 40/100\n",
      "483/483 - 1s - loss: 0.0121\n",
      "Epoch 41/100\n",
      "483/483 - 1s - loss: 0.0119\n",
      "Epoch 42/100\n",
      "483/483 - 1s - loss: 0.0127\n",
      "Epoch 43/100\n",
      "483/483 - 1s - loss: 0.0129\n",
      "Epoch 44/100\n",
      "483/483 - 1s - loss: 0.0123\n",
      "Epoch 45/100\n",
      "483/483 - 1s - loss: 0.0123\n",
      "Epoch 46/100\n",
      "483/483 - 1s - loss: 0.0124\n",
      "Epoch 47/100\n",
      "483/483 - 1s - loss: 0.0119\n",
      "Epoch 48/100\n",
      "483/483 - 1s - loss: 0.0118\n",
      "Epoch 49/100\n",
      "483/483 - 1s - loss: 0.0122\n",
      "Epoch 50/100\n",
      "483/483 - 1s - loss: 0.0122\n",
      "Epoch 51/100\n",
      "483/483 - 1s - loss: 0.0124\n",
      "Epoch 52/100\n",
      "483/483 - 1s - loss: 0.0122\n",
      "Epoch 53/100\n",
      "483/483 - 1s - loss: 0.0123\n",
      "Epoch 54/100\n",
      "483/483 - 1s - loss: 0.0121\n",
      "Epoch 55/100\n",
      "483/483 - 1s - loss: 0.0123\n",
      "Epoch 56/100\n",
      "483/483 - 1s - loss: 0.0125\n",
      "Epoch 57/100\n",
      "483/483 - 1s - loss: 0.0120\n",
      "Epoch 58/100\n",
      "483/483 - 1s - loss: 0.0119\n",
      "Epoch 59/100\n",
      "483/483 - 1s - loss: 0.0121\n",
      "Epoch 60/100\n",
      "483/483 - 1s - loss: 0.0121\n",
      "Epoch 61/100\n",
      "483/483 - 1s - loss: 0.0120\n",
      "Epoch 62/100\n",
      "483/483 - 1s - loss: 0.0122\n",
      "Epoch 63/100\n",
      "483/483 - 1s - loss: 0.0123\n",
      "Epoch 64/100\n",
      "483/483 - 1s - loss: 0.0121\n",
      "Epoch 65/100\n",
      "483/483 - 1s - loss: 0.0122\n",
      "Epoch 66/100\n",
      "483/483 - 1s - loss: 0.0119\n",
      "Epoch 67/100\n",
      "483/483 - 1s - loss: 0.0121\n",
      "Epoch 68/100\n",
      "483/483 - 1s - loss: 0.0125\n",
      "Epoch 69/100\n",
      "483/483 - 1s - loss: 0.0121\n",
      "Epoch 70/100\n",
      "483/483 - 1s - loss: 0.0121\n",
      "Epoch 71/100\n",
      "483/483 - 1s - loss: 0.0122\n",
      "Epoch 72/100\n",
      "483/483 - 1s - loss: 0.0121\n",
      "Epoch 73/100\n",
      "483/483 - 1s - loss: 0.0122\n",
      "Epoch 74/100\n",
      "483/483 - 1s - loss: 0.0120\n",
      "Epoch 75/100\n",
      "483/483 - 1s - loss: 0.0118\n",
      "Epoch 76/100\n",
      "483/483 - 1s - loss: 0.0121\n",
      "Epoch 77/100\n",
      "483/483 - 1s - loss: 0.0120\n",
      "Epoch 78/100\n",
      "483/483 - 1s - loss: 0.0121\n",
      "Epoch 79/100\n",
      "483/483 - 1s - loss: 0.0121\n",
      "Epoch 80/100\n",
      "483/483 - 1s - loss: 0.0121\n",
      "Epoch 81/100\n",
      "483/483 - 1s - loss: 0.0120\n",
      "Epoch 82/100\n",
      "483/483 - 1s - loss: 0.0118\n",
      "Epoch 83/100\n",
      "483/483 - 1s - loss: 0.0124\n",
      "Epoch 84/100\n",
      "483/483 - 1s - loss: 0.0125\n",
      "Epoch 85/100\n",
      "483/483 - 1s - loss: 0.0126\n",
      "Epoch 86/100\n",
      "483/483 - 1s - loss: 0.0118\n",
      "Epoch 87/100\n",
      "483/483 - 1s - loss: 0.0122\n",
      "Epoch 88/100\n",
      "483/483 - 1s - loss: 0.0120\n",
      "Epoch 89/100\n",
      "483/483 - 1s - loss: 0.0120\n",
      "Epoch 90/100\n",
      "483/483 - 1s - loss: 0.0121\n",
      "Epoch 91/100\n",
      "483/483 - 1s - loss: 0.0124\n",
      "Epoch 92/100\n",
      "483/483 - 1s - loss: 0.0122\n",
      "Epoch 93/100\n",
      "483/483 - 1s - loss: 0.0121\n",
      "Epoch 94/100\n",
      "483/483 - 1s - loss: 0.0121\n",
      "Epoch 95/100\n",
      "483/483 - 1s - loss: 0.0121\n",
      "Epoch 96/100\n",
      "483/483 - 1s - loss: 0.0121\n",
      "Epoch 97/100\n",
      "483/483 - 1s - loss: 0.0123\n",
      "Epoch 98/100\n",
      "483/483 - 1s - loss: 0.0120\n",
      "Epoch 99/100\n",
      "483/483 - 1s - loss: 0.0118\n",
      "Epoch 100/100\n",
      "483/483 - 1s - loss: 0.0121\n"
     ]
    },
    {
     "data": {
      "text/plain": [
       "<tensorflow.python.keras.callbacks.History at 0x1f3a999dc88>"
      ]
     },
     "execution_count": 57,
     "metadata": {},
     "output_type": "execute_result"
    }
   ],
   "source": [
    "model = Sequential([\n",
    "    layers.LSTM(8, input_shape=trainX.shape[-2:]),\n",
    "    layers.Dense(1)\n",
    "])\n",
    "model.compile(optimizer='adam', loss='mae')\n",
    "model.fit(trainX, trainY, epochs=100, batch_size=1, verbose=2)"
   ]
  },
  {
   "cell_type": "code",
   "execution_count": 58,
   "metadata": {},
   "outputs": [],
   "source": [
    "trainPredict = model.predict(trainX)\n",
    "testPredict = model.predict(testX)"
   ]
  },
  {
   "cell_type": "code",
   "execution_count": 59,
   "metadata": {},
   "outputs": [
    {
     "name": "stdout",
     "output_type": "stream",
     "text": [
      "Train Score: 0.01 RMSE\n",
      "Test Score: 0.01 RMSE\n"
     ]
    }
   ],
   "source": [
    "trainPredict = scaler.inverse_transform(trainPredict)\n",
    "trainY = scaler.inverse_transform([trainY])\n",
    "testPredict = scaler.inverse_transform(testPredict)\n",
    "testY = scaler.inverse_transform([testY])\n",
    "# calculate root mean squared error\n",
    "trainScore = math.sqrt(mean_squared_error(trainY[0], trainPredict[:,0]))\n",
    "print('Train Score: %.2f RMSE' % (trainScore))\n",
    "testScore = math.sqrt(mean_squared_error(testY[0], testPredict[:,0]))\n",
    "print('Test Score: %.2f RMSE' % (testScore))"
   ]
  },
  {
   "cell_type": "code",
   "execution_count": 60,
   "metadata": {},
   "outputs": [
    {
     "data": {
      "image/png": "[encoded data removed]",
      "text/plain": [
       "<Figure size 432x288 with 1 Axes>"
      ]
     },
     "metadata": {
      "needs_background": "light"
     },
     "output_type": "display_data"
    }
   ],
   "source": [
    "trainPredictPlot = numpy.empty_like(dataset)\n",
    "trainPredictPlot[:, :] = numpy.nan\n",
    "trainPredictPlot[look_back:len(trainPredict)+look_back, :] = trainPredict\n",
    "# shift test predictions for plotting\n",
    "testPredictPlot = numpy.empty_like(dataset)\n",
    "testPredictPlot[:, :] = numpy.nan\n",
    "testPredictPlot[len(trainPredict)+(look_back*2)+1:len(dataset)-1, :] = testPredict\n",
    "# plot baseline and predictions\n",
    "plt.plot(scaler.inverse_transform(dataset),label='prediction')\n",
    "plt.plot(trainPredictPlot,label='training')\n",
    "plt.plot(testPredictPlot,label='test')\n",
    "plt.legend(loc='best')\n",
    "plt.show()\n"
   ]
  },
  {
   "cell_type": "code",
   "execution_count": 61,
   "metadata": {},
   "outputs": [],
   "source": [
    "import seaborn as sns"
   ]
  },
  {
   "cell_type": "code",
   "execution_count": 63,
   "metadata": {},
   "outputs": [
    {
     "data": {
      "image/png": "[encoded data removed]",
      "text/plain": [
       "<Figure size 432x288 with 2 Axes>"
      ]
     },
     "metadata": {
      "needs_background": "light"
     },
     "output_type": "display_data"
    }
   ],
   "source": [
    "chl = sns.heatmap(z)"
   ]
  },
  {
   "cell_type": "code",
   "execution_count": 65,
   "metadata": {},
   "outputs": [
    {
     "data": {
      "text/plain": [
       "array([[0.04724193],\n",
       "       [0.04427353],\n",
       "       [0.04019284],\n",
       "       [0.03657472],\n",
       "       [0.0345574 ],\n",
       "       [0.03347605],\n",
       "       [0.03249443],\n",
       "       [0.03150928],\n",
       "       [0.03093094],\n",
       "       [0.02880993],\n",
       "       [0.0270322 ],\n",
       "       [0.0239839 ],\n",
       "       [0.02114472],\n",
       "       [0.0183765 ],\n",
       "       [0.01494473],\n",
       "       [0.01156464],\n",
       "       [0.01170614],\n",
       "       [0.01531127],\n",
       "       [0.01892781],\n",
       "       [0.01810619],\n",
       "       [0.01445192],\n",
       "       [0.01395598],\n",
       "       [0.01899841],\n",
       "       [0.02590802],\n",
       "       [0.03335816],\n",
       "       [0.04230979],\n",
       "       [0.04811975],\n",
       "       [0.04746854],\n",
       "       [0.04901814],\n",
       "       [0.05747959],\n",
       "       [0.06067574],\n",
       "       [0.04768917],\n",
       "       [0.03226393],\n",
       "       [0.0251388 ],\n",
       "       [0.02637184],\n",
       "       [0.03309399],\n",
       "       [0.03936675],\n",
       "       [0.04254195],\n",
       "       [0.04285938],\n",
       "       [0.04163456],\n",
       "       [0.04127851],\n",
       "       [0.04176885],\n",
       "       [0.04213569],\n",
       "       [0.04201651],\n",
       "       [0.04287034],\n",
       "       [0.04310238],\n",
       "       [0.0446547 ],\n",
       "       [0.04935414],\n",
       "       [0.05585822],\n",
       "       [0.06186685],\n",
       "       [0.06746113],\n",
       "       [0.07207373],\n",
       "       [0.07834181],\n",
       "       [0.08351439],\n",
       "       [0.08759591],\n",
       "       [0.09432605],\n",
       "       [0.09971538],\n",
       "       [0.10620797],\n",
       "       [0.11042145],\n",
       "       [0.10472393],\n",
       "       [0.10658875],\n",
       "       [0.12479216],\n",
       "       [0.1391902 ],\n",
       "       [0.1426599 ],\n",
       "       [0.14940375],\n",
       "       [0.15970796],\n",
       "       [0.17163917],\n",
       "       [0.18600503],\n",
       "       [0.19640407],\n",
       "       [0.19331771],\n",
       "       [0.17933005],\n",
       "       [0.1695798 ],\n",
       "       [0.16514567],\n",
       "       [0.16622972],\n",
       "       [0.1822612 ],\n",
       "       [0.20040184],\n",
       "       [0.21529287],\n",
       "       [0.23116678],\n",
       "       [0.230999  ],\n",
       "       [0.22841519],\n",
       "       [0.23489708],\n",
       "       [0.24000424],\n",
       "       [0.22937232],\n",
       "       [0.22168308],\n",
       "       [0.22635823],\n",
       "       [0.2526092 ],\n",
       "       [0.2964182 ],\n",
       "       [0.32752842],\n",
       "       [0.338879  ],\n",
       "       [0.353436  ],\n",
       "       [0.3631575 ],\n",
       "       [0.35622907],\n",
       "       [0.35972297],\n",
       "       [0.37812304],\n",
       "       [0.39230168],\n",
       "       [0.39212918],\n",
       "       [0.37861872],\n",
       "       [0.37304717],\n",
       "       [0.35326755],\n",
       "       [0.34190363],\n",
       "       [0.3386382 ],\n",
       "       [0.34911007],\n",
       "       [0.35644948],\n",
       "       [0.38238508],\n",
       "       [0.4342056 ],\n",
       "       [0.47884881],\n",
       "       [0.51360095],\n",
       "       [0.5507423 ],\n",
       "       [0.5672886 ],\n",
       "       [0.5651524 ],\n",
       "       [0.5531839 ],\n",
       "       [0.53483677],\n",
       "       [0.52352047],\n",
       "       [0.52241415],\n",
       "       [0.4394501 ],\n",
       "       [0.43370253],\n",
       "       [0.43285996],\n",
       "       [0.43403208],\n",
       "       [0.4425497 ],\n",
       "       [0.46656173],\n",
       "       [0.5032108 ],\n",
       "       [0.5363521 ],\n",
       "       [0.56684446],\n",
       "       [0.6017759 ],\n",
       "       [0.6184344 ],\n",
       "       [0.66169435],\n",
       "       [0.7134587 ],\n",
       "       [0.7231298 ],\n",
       "       [0.68916434],\n",
       "       [0.68099934],\n",
       "       [0.6920787 ],\n",
       "       [0.69627464],\n",
       "       [0.6719638 ],\n",
       "       [0.624657  ],\n",
       "       [0.5906446 ],\n",
       "       [0.5639441 ],\n",
       "       [0.535553  ],\n",
       "       [0.48027658],\n",
       "       [0.44767737],\n",
       "       [0.46219498],\n",
       "       [0.480573  ],\n",
       "       [0.49088764],\n",
       "       [0.5044502 ],\n",
       "       [0.51275724],\n",
       "       [0.5259226 ],\n",
       "       [0.5323283 ],\n",
       "       [0.5163053 ],\n",
       "       [0.49595696],\n",
       "       [0.49678564],\n",
       "       [0.5074756 ],\n",
       "       [0.5043094 ],\n",
       "       [0.49435383],\n",
       "       [0.4898355 ],\n",
       "       [0.5047193 ],\n",
       "       [0.51519334],\n",
       "       [0.5171674 ],\n",
       "       [0.5228317 ],\n",
       "       [0.519798  ],\n",
       "       [0.50505227],\n",
       "       [0.49103492],\n",
       "       [0.4921677 ],\n",
       "       [0.49583662],\n",
       "       [0.47129297],\n",
       "       [0.43136972],\n",
       "       [0.4086268 ],\n",
       "       [0.402991  ],\n",
       "       [0.40025038],\n",
       "       [0.37692708],\n",
       "       [0.34863108],\n",
       "       [0.32872164],\n",
       "       [0.31616312],\n",
       "       [0.30976504],\n",
       "       [0.31419963],\n",
       "       [0.32833427],\n",
       "       [0.32880098],\n",
       "       [0.3097316 ],\n",
       "       [0.28099716],\n",
       "       [0.26047605],\n",
       "       [0.24152279],\n",
       "       [0.22359765],\n",
       "       [0.22808301],\n",
       "       [0.22591233],\n",
       "       [0.21716231],\n",
       "       [0.20671397],\n",
       "       [0.19820541],\n",
       "       [0.1898984 ],\n",
       "       [0.18258002],\n",
       "       [0.1705991 ],\n",
       "       [0.15556395],\n",
       "       [0.15375492],\n",
       "       [0.15451759],\n",
       "       [0.15358412],\n",
       "       [0.14285704],\n",
       "       [0.12860405],\n",
       "       [0.11848319],\n",
       "       [0.11665291],\n",
       "       [0.1130546 ],\n",
       "       [0.11175337],\n",
       "       [0.12427479],\n",
       "       [0.13615704],\n",
       "       [0.14194623],\n",
       "       [0.14878595],\n",
       "       [0.15692279],\n",
       "       [0.16309738],\n",
       "       [0.16802192],\n",
       "       [0.16812709],\n",
       "       [0.16805136],\n",
       "       [0.16558525],\n",
       "       [0.15802729],\n",
       "       [0.15395579],\n",
       "       [0.15757069],\n",
       "       [0.15465435],\n",
       "       [0.14281625],\n",
       "       [0.13558623],\n",
       "       [0.13338724],\n",
       "       [0.13292664],\n",
       "       [0.13582656],\n",
       "       [0.1504946 ],\n",
       "       [0.16696915],\n",
       "       [0.17993852],\n",
       "       [0.18637481],\n",
       "       [0.17470315],\n",
       "       [0.15444773],\n",
       "       [0.14400145],\n",
       "       [0.14020073],\n",
       "       [0.14256266],\n",
       "       [0.14549744],\n",
       "       [0.15001312],\n",
       "       [0.15212038],\n",
       "       [0.14729407],\n",
       "       [0.13622904],\n",
       "       [0.12671876],\n",
       "       [0.12442726],\n",
       "       [0.13015148],\n",
       "       [0.14037251],\n",
       "       [0.14370793],\n",
       "       [0.15053427],\n",
       "       [0.15882865],\n",
       "       [0.16266274]], dtype=float32)"
      ]
     },
     "execution_count": 65,
     "metadata": {},
     "output_type": "execute_result"
    }
   ],
   "source": [
    "test"
   ]
  },
  {
   "cell_type": "code",
   "execution_count": null,
   "metadata": {},
   "outputs": [],
   "source": []
  }
 ],
 "metadata": {
  "kernelspec": {
   "display_name": "Python 3",
   "language": "python",
   "name": "python3"
  },
  "language_info": {
   "codemirror_mode": {
    "name": "ipython",
    "version": 3
   },
   "file_extension": ".py",
   "mimetype": "text/x-python",
   "name": "python",
   "nbconvert_exporter": "python",
   "pygments_lexer": "ipython3",
   "version": "3.7.4"
  }
 },
 "nbformat": 4,
 "nbformat_minor": 2
}
